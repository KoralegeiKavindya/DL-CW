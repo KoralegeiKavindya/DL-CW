{
 "cells": [
  {
   "cell_type": "markdown",
   "source": [
    "## Importing the Libraries"
   ],
   "metadata": {
    "collapsed": false
   },
   "id": "e846da1e7f39777a"
  },
  {
   "cell_type": "code",
   "execution_count": null,
   "id": "initial_id",
   "metadata": {
    "collapsed": true
   },
   "outputs": [],
   "source": [
    "import numpy as np\n",
    "import pandas as pd\n",
    "# from tensorflow.python.keras.layers import Conv1D, MaxPooling1D, Dense, Flatten\n",
    "# from tensorflow.python.keras.models import Sequential\n",
    "import matplotlib.pyplot as plt\n",
    "%matplotlib inline\n",
    "from sklearn.metrics import precision_score, recall_score, f1_score\n",
    "from sklearn.metrics import confusion_matrix\n",
    "import seaborn as sns\n",
    "from sklearn.metrics import classification_report\n",
    "from sklearn.model_selection import train_test_split\n",
    "from keras.utils import pad_sequences\n",
    "from keras_preprocessing.text import Tokenizer\n",
    "from keras import Sequential\n",
    "from keras.layers import Embedding, MaxPooling1D, Flatten, Dense"
   ]
  },
  {
   "cell_type": "markdown",
   "source": [
    "## Importing variables from the preprocessing notebook as csv files\n"
   ],
   "metadata": {
    "collapsed": false
   },
   "id": "58f067293b3c8af6"
  },
  {
   "cell_type": "code",
   "execution_count": null,
   "outputs": [],
   "source": [
    "y = np.loadtxt('y.csv', delimiter=',')\n",
    "X = pd.read_csv('X.csv')\n",
    "\n",
    "X = X = X['preprocessed_text']\n",
    "X = [str(x) for x in X]"
   ],
   "metadata": {
    "collapsed": false
   },
   "id": "69737743ebb29e79"
  },
  {
   "cell_type": "code",
   "execution_count": null,
   "outputs": [],
   "source": [
    "X"
   ],
   "metadata": {
    "collapsed": false
   },
   "id": "e8c967d3ddcd1cf6"
  },
  {
   "cell_type": "markdown",
   "source": [
    "## CNN Model"
   ],
   "metadata": {
    "collapsed": false
   },
   "id": "e51ea04e00f554a0"
  },
  {
   "cell_type": "code",
   "execution_count": null,
   "outputs": [],
   "source": [
    "# Tokenize and pad sequences\n",
    "max_words = 1000\n",
    "max_len = 100\n",
    "\n",
    "tokenizer = Tokenizer(num_words=max_words)\n",
    "tokenizer.fit_on_texts(X)\n",
    "sequences = tokenizer.texts_to_sequences(X)\n",
    "X = pad_sequences(sequences, maxlen=max_len)\n",
    "y = np.array(y)\n",
    "\n",
    "# Split the data into training and testing sets\n",
    "X_train, X_test, y_train, y_test = train_test_split(X, y, test_size=0.2, random_state=42)"
   ],
   "metadata": {
    "collapsed": false
   }
  },
  {
   "cell_type": "code",
   "execution_count": null,
   "outputs": [],
   "source": [
    "# Build the CNN model\n",
    "embedding_dim = 50  # Dimension of word embeddings\n",
    "filters = 100  # Number of filters in the convolutional layer\n",
    "kernel_size = 3  # Size of the convolutional kernel\n",
    "\n",
    "# Build a simple 1D CNN model\n",
    "model = Sequential()\n",
    "model.add(Embedding(input_dim=max_words, output_dim=embedding_dim, input_length=max_len))\n",
    "model.add(MaxPooling1D(pool_size=2))\n",
    "model.add(Flatten())\n",
    "model.add(Dense(64, activation='relu'))\n",
    "model.add(Dense(1, activation='sigmoid'))  # Assuming binary classification\n"
   ],
   "metadata": {
    "collapsed": false
   },
   "id": "4d65e63237526323"
  },
  {
   "cell_type": "code",
   "execution_count": null,
   "outputs": [],
   "source": [
    "# Compile the model\n",
    "model.compile(loss='binary_crossentropy', optimizer='adam', metrics=['accuracy'])"
   ],
   "metadata": {
    "collapsed": false
   },
   "id": "102a28769c04af2e"
  },
  {
   "cell_type": "code",
   "execution_count": null,
   "outputs": [],
   "source": [
    "# Train the model and store the history\n",
    "history_cnn = model.fit(X_train, y_train, epochs=10, batch_size=32, validation_split=0.2)"
   ],
   "metadata": {
    "collapsed": false
   },
   "id": "ff5932e173c28313"
  },
  {
   "cell_type": "markdown",
   "source": [
    "## Model Evaluation on Training and Validation Data"
   ],
   "metadata": {
    "collapsed": false
   },
   "id": "f62a1d358a836ac2"
  },
  {
   "cell_type": "code",
   "execution_count": null,
   "outputs": [],
   "source": [
    "# Extract training history\n",
    "history_cnn_dict = history_cnn.history\n",
    "\n",
    "# Extract metrics\n",
    "acc_cnn = history_cnn_dict['accuracy']\n",
    "val_acc_cnn = history_cnn_dict['val_accuracy']\n",
    "loss_cnn = history_cnn_dict['loss']\n",
    "val_loss_cnn = history_cnn_dict['val_loss']\n",
    "epochs_cnn = range(1, len(acc_cnn) + 1)\n",
    "\n",
    "# Plot training and validation loss\n",
    "plt.figure(figsize=(15, 10))\n",
    "plt.plot(epochs_cnn, loss_cnn, 'r', label='Training loss')\n",
    "plt.plot(epochs_cnn, val_loss_cnn, 'b', label='Validation loss')\n",
    "plt.title('Training and Validation Loss', size=20)\n",
    "plt.xlabel('Epochs', size=20)\n",
    "plt.ylabel('Loss', size=20)\n",
    "plt.legend(prop={'size': 20})\n",
    "plt.show()\n",
    "\n",
    "# Plot training and validation accuracy\n",
    "plt.figure(figsize=(15, 10))\n",
    "plt.plot(epochs_cnn, acc_cnn, 'g', label='Training acc')\n",
    "plt.plot(epochs_cnn, val_acc_cnn, 'b', label='Validation acc')\n",
    "plt.title('Training and Validation Accuracy', size=20)\n",
    "plt.xlabel('Epochs', size=20)\n",
    "plt.ylabel('Accuracy', size=20)\n",
    "plt.legend(prop={'size': 20})\n",
    "plt.ylim((0.5,1))\n",
    "plt.show()"
   ],
   "metadata": {
    "collapsed": false
   },
   "id": "a6902241078718fa"
  },
  {
   "cell_type": "markdown",
   "source": [
    "## Model Evaluation on Test Data"
   ],
   "metadata": {
    "collapsed": false
   }
  },
  {
   "cell_type": "code",
   "execution_count": null,
   "outputs": [],
   "source": [
    "# Evaluate the model on the test data\n",
    "evaluation = model.evaluate(X_test, y_test)\n",
    "\n",
    "# Extract the evaluation metrics (e.g., loss and accuracy)\n",
    "loss, accuracy = evaluation"
   ],
   "metadata": {
    "collapsed": false
   },
   "id": "6a7f3ae71d45e6fe"
  },
  {
   "cell_type": "code",
   "execution_count": null,
   "outputs": [],
   "source": [
    "# Get model predictions on the test data\n",
    "y_pred_probs  = model.predict(X_test)\n",
    "\n",
    "# Apply a threshold to convert probabilities to binary predictions\n",
    "threshold = 0.5\n",
    "y_pred = (y_pred_probs > threshold).astype(int)\n",
    "\n",
    "# Calculate precision, recall, and F1-score\n",
    "precision = precision_score(y_test, y_pred)\n",
    "recall = recall_score(y_test, y_pred)\n",
    "f1 = f1_score(y_test, y_pred)\n",
    "\n",
    "# Print the evaluation metrics\n",
    "print(f\"Loss: {loss}\")\n",
    "print(f\"Accuracy: {accuracy}\")\n",
    "print(f\"Precision: {precision}\")\n",
    "print(f\"Recall: {recall}\")\n",
    "print(f\"F1-Score: {f1}\")"
   ],
   "metadata": {
    "collapsed": false
   }
  },
  {
   "cell_type": "markdown",
   "source": [
    "## Classification Report"
   ],
   "metadata": {
    "collapsed": false
   }
  },
  {
   "cell_type": "code",
   "execution_count": null,
   "outputs": [],
   "source": [
    "# Generate the classification report\n",
    "class_report = classification_report(y_test, y_pred)\n",
    "print(\"Classification Report:\")\n",
    "print(class_report)"
   ],
   "metadata": {
    "collapsed": false
   }
  },
  {
   "cell_type": "markdown",
   "source": [
    "## Confusion Matrix"
   ],
   "metadata": {
    "collapsed": false
   }
  },
  {
   "cell_type": "code",
   "execution_count": null,
   "outputs": [],
   "source": [
    "# Generate the confusion matrix\n",
    "conf_matrix = confusion_matrix(y_test, y_pred)\n",
    "\n",
    "# Display the confusion matrix using seaborn heatmap\n",
    "plt.figure(figsize=(8, 6))\n",
    "sns.heatmap(conf_matrix, annot=True, fmt='d', cmap='Blues', cbar=False)\n",
    "plt.xlabel('Predicted labels')\n",
    "plt.ylabel('True labels')\n",
    "plt.title('Confusion Matrix')\n",
    "plt.show()\n"
   ],
   "metadata": {
    "collapsed": false
   }
  }
 ],
 "metadata": {
  "kernelspec": {
   "display_name": "Python 3",
   "language": "python",
   "name": "python3"
  },
  "language_info": {
   "codemirror_mode": {
    "name": "ipython",
    "version": 2
   },
   "file_extension": ".py",
   "mimetype": "text/x-python",
   "name": "python",
   "nbconvert_exporter": "python",
   "pygments_lexer": "ipython2",
   "version": "2.7.6"
  }
 },
 "nbformat": 4,
 "nbformat_minor": 5
}
