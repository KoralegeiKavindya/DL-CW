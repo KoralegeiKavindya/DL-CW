{
 "cells": [
  {
   "cell_type": "markdown",
   "source": [
    "## Importing the Libraries"
   ],
   "metadata": {
    "collapsed": false
   },
   "id": "e846da1e7f39777a"
  },
  {
   "cell_type": "code",
   "execution_count": null,
   "id": "initial_id",
   "metadata": {
    "collapsed": true
   },
   "outputs": [],
   "source": [
    "import numpy as np\n",
    "from tensorflow.python.keras.layers import Conv1D, MaxPooling1D, Dense, Flatten\n",
    "from tensorflow.python.keras.models import Sequential\n",
    "import matplotlib.pyplot as plt\n",
    "%matplotlib inline"
   ]
  },
  {
   "cell_type": "markdown",
   "source": [
    "## Importing variables from the preprocessing notebook as csv files\n"
   ],
   "metadata": {
    "collapsed": false
   },
   "id": "58f067293b3c8af6"
  },
  {
   "cell_type": "code",
   "execution_count": null,
   "outputs": [],
   "source": [
    "X_train = np.loadtxt('X_train.csv', delimiter=',')\n",
    "X_test = np.loadtxt('X_test.csv', delimiter=',')\n",
    "y_train = np.loadtxt('y_train.csv', delimiter=',')\n",
    "y_test = np.loadtxt('y_test.csv', delimiter=',')"
   ],
   "metadata": {
    "collapsed": false
   },
   "id": "69737743ebb29e79"
  },
  {
   "cell_type": "code",
   "execution_count": null,
   "outputs": [],
   "source": [
    "print(X_train)\n",
    "print(X_test)\n",
    "print(y_train)\n",
    "print(y_test)"
   ],
   "metadata": {
    "collapsed": false
   },
   "id": "e8c967d3ddcd1cf6"
  },
  {
   "cell_type": "markdown",
   "source": [
    "## CNN Model"
   ],
   "metadata": {
    "collapsed": false
   },
   "id": "e51ea04e00f554a0"
  },
  {
   "cell_type": "code",
   "execution_count": null,
   "outputs": [],
   "source": [
    "X_train_reshaped = X_train.reshape((X_train.shape[0], X_train.shape[1], 1))\n",
    "\n",
    "# Build a simple 1D CNN model\n",
    "model = Sequential()\n",
    "model.add(Conv1D(filters=64, kernel_size=3, activation='relu', input_shape=(X_train.shape[1], 1)))\n",
    "model.add(MaxPooling1D(pool_size=2))\n",
    "model.add(Flatten())\n",
    "model.add(Dense(64, activation='relu'))\n",
    "model.add(Dense(1, activation='sigmoid'))  # Assuming binary classification\n"
   ],
   "metadata": {
    "collapsed": false
   },
   "id": "4d65e63237526323"
  },
  {
   "cell_type": "code",
   "execution_count": null,
   "outputs": [],
   "source": [
    "# Compile the model\n",
    "model.compile(loss='binary_crossentropy', optimizer='adam', metrics=['accuracy'])"
   ],
   "metadata": {
    "collapsed": false
   },
   "id": "102a28769c04af2e"
  },
  {
   "cell_type": "code",
   "execution_count": null,
   "outputs": [],
   "source": [
    "# Train the model and store the history\n",
    "history_cnn = model.fit(X_train_reshaped, y_train, epochs=10, batch_size=32, validation_split=0.2)"
   ],
   "metadata": {
    "collapsed": false
   },
   "id": "ff5932e173c28313"
  }
 ],
 "metadata": {
  "kernelspec": {
   "display_name": "Python 3",
   "language": "python",
   "name": "python3"
  },
  "language_info": {
   "codemirror_mode": {
    "name": "ipython",
    "version": 2
   },
   "file_extension": ".py",
   "mimetype": "text/x-python",
   "name": "python",
   "nbconvert_exporter": "python",
   "pygments_lexer": "ipython2",
   "version": "2.7.6"
  }
 },
 "nbformat": 4,
 "nbformat_minor": 5
}
