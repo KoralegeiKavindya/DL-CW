{
 "cells": [
  {
   "cell_type": "markdown",
   "source": [
    "## Importing the Libraries"
   ],
   "metadata": {
    "collapsed": false
   },
   "id": "e846da1e7f39777a"
  },
  {
   "cell_type": "code",
   "execution_count": null,
   "id": "initial_id",
   "metadata": {
    "collapsed": true
   },
   "outputs": [],
   "source": [
    "import numpy as np\n",
    "from tensorflow.python.keras.layers import Conv1D, MaxPooling1D, Dense, Flatten\n",
    "from tensorflow.python.keras.models import Sequential\n",
    "import matplotlib.pyplot as plt\n",
    "%matplotlib inline"
   ]
  },
  {
   "cell_type": "markdown",
   "source": [
    "## Importing variables from the preprocessing notebook as csv files\n"
   ],
   "metadata": {
    "collapsed": false
   },
   "id": "58f067293b3c8af6"
  },
  {
   "cell_type": "code",
   "execution_count": null,
   "outputs": [],
   "source": [
    "X_train = np.loadtxt('X_train.csv', delimiter=',')\n",
    "X_test = np.loadtxt('X_test.csv', delimiter=',')\n",
    "y_train = np.loadtxt('y_train.csv', delimiter=',')\n",
    "y_test = np.loadtxt('y_test.csv', delimiter=',')"
   ],
   "metadata": {
    "collapsed": false
   },
   "id": "69737743ebb29e79"
  },
  {
   "cell_type": "code",
   "execution_count": null,
   "outputs": [],
   "source": [
    "print(X_train)\n",
    "print(X_test)\n",
    "print(y_train)\n",
    "print(y_test)"
   ],
   "metadata": {
    "collapsed": false
   },
   "id": "e8c967d3ddcd1cf6"
  },
  {
   "cell_type": "markdown",
   "source": [
    "## CNN Model"
   ],
   "metadata": {
    "collapsed": false
   },
   "id": "e51ea04e00f554a0"
  },
  {
   "cell_type": "code",
   "execution_count": null,
   "outputs": [],
   "source": [
    "X_train_reshaped = X_train.reshape((X_train.shape[0], X_train.shape[1], 1))\n",
    "\n",
    "# Build a simple 1D CNN model\n",
    "model = Sequential()\n",
    "model.add(Conv1D(filters=64, kernel_size=3, activation='relu', input_shape=(X_train.shape[1], 1)))\n",
    "model.add(MaxPooling1D(pool_size=2))\n",
    "model.add(Flatten())\n",
    "model.add(Dense(64, activation='relu'))\n",
    "model.add(Dense(1, activation='sigmoid'))  # Assuming binary classification\n"
   ],
   "metadata": {
    "collapsed": false
   },
   "id": "4d65e63237526323"
  },
  {
   "cell_type": "code",
   "execution_count": null,
   "outputs": [],
   "source": [
    "# Compile the model\n",
    "model.compile(loss='binary_crossentropy', optimizer='adam', metrics=['accuracy'])"
   ],
   "metadata": {
    "collapsed": false
   },
   "id": "102a28769c04af2e"
  },
  {
   "cell_type": "code",
   "execution_count": null,
   "outputs": [],
   "source": [
    "# Train the model and store the history\n",
    "history_cnn = model.fit(X_train_reshaped, y_train, epochs=10, batch_size=32, validation_split=0.2)"
   ],
   "metadata": {
    "collapsed": false
   },
   "id": "ff5932e173c28313"
  },
  {
   "cell_type": "markdown",
   "source": [
    "## Model Evaluation"
   ],
   "metadata": {
    "collapsed": false
   },
   "id": "f62a1d358a836ac2"
  },
  {
   "cell_type": "code",
   "execution_count": null,
   "outputs": [],
   "source": [
    "# Extract training history\n",
    "history_cnn_dict = history_cnn.history\n",
    "\n",
    "# Extract metrics\n",
    "acc_cnn = history_cnn_dict['accuracy']\n",
    "val_acc_cnn = history_cnn_dict['val_accuracy']\n",
    "loss_cnn = history_cnn_dict['loss']\n",
    "val_loss_cnn = history_cnn_dict['val_loss']\n",
    "epochs_cnn = range(1, len(acc_cnn) + 1)\n",
    "\n",
    "# Plot training and validation loss\n",
    "plt.figure(figsize=(15, 10))\n",
    "plt.plot(epochs_cnn, loss_cnn, 'r', label='Training loss')\n",
    "plt.plot(epochs_cnn, val_loss_cnn, 'b', label='Validation loss')\n",
    "plt.title('Training and Validation Loss', size=20)\n",
    "plt.xlabel('Epochs', size=20)\n",
    "plt.ylabel('Loss', size=20)\n",
    "plt.legend(prop={'size': 20})\n",
    "plt.show()\n",
    "\n",
    "# Plot training and validation accuracy\n",
    "plt.figure(figsize=(15, 10))\n",
    "plt.plot(epochs_cnn, acc_cnn, 'g', label='Training acc')\n",
    "plt.plot(epochs_cnn, val_acc_cnn, 'b', label='Validation acc')\n",
    "plt.title('Training and Validation Accuracy', size=20)\n",
    "plt.xlabel('Epochs', size=20)\n",
    "plt.ylabel('Accuracy', size=20)\n",
    "plt.legend(prop={'size': 20})\n",
    "plt.ylim((0.5,1))\n",
    "plt.show()"
   ],
   "metadata": {
    "collapsed": false
   },
   "id": "a6902241078718fa"
  },
  {
   "cell_type": "code",
   "execution_count": null,
   "outputs": [],
   "source": [
    "# Reshape X_test to match the expected input shape for a 1D CNN\n",
    "X_test_reshaped = X_test.reshape((X_test.shape[0], X_test.shape[1], 1))\n",
    "\n",
    "# Evaluate the model on the test data\n",
    "evaluation = model.evaluate(X_test_reshaped, y_test)\n",
    "\n",
    "# Extract the evaluation metrics (e.g., loss and accuracy)\n",
    "loss, accuracy = evaluation\n",
    "\n",
    "print(f'Test Loss: {loss:.4f}')\n",
    "print(f'Test Accuracy: {accuracy:.4f}')"
   ],
   "metadata": {
    "collapsed": false
   },
   "id": "6a7f3ae71d45e6fe"
  }
 ],
 "metadata": {
  "kernelspec": {
   "display_name": "Python 3",
   "language": "python",
   "name": "python3"
  },
  "language_info": {
   "codemirror_mode": {
    "name": "ipython",
    "version": 2
   },
   "file_extension": ".py",
   "mimetype": "text/x-python",
   "name": "python",
   "nbconvert_exporter": "python",
   "pygments_lexer": "ipython2",
   "version": "2.7.6"
  }
 },
 "nbformat": 4,
 "nbformat_minor": 5
}
