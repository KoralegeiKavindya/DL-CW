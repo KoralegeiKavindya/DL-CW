{
 "cells": [
  {
   "cell_type": "markdown",
   "source": [
    "## Importing the Libraries"
   ],
   "metadata": {
    "collapsed": false
   },
   "id": "feffa50d1773b6a2"
  },
  {
   "cell_type": "code",
   "execution_count": 37,
   "outputs": [],
   "source": [
    "import pandas as pd\n",
    "import numpy as np\n",
    "from transformers import TFBertModel, BertTokenizer\n",
    "import tensorflow as tf\n",
    "from tensorflow.keras.layers import Input, GlobalAveragePooling1D, Dropout, Dense\n",
    "from tensorflow.keras.models import Model\n",
    "from sklearn.metrics import calinski_harabasz_score, davies_bouldin_score, silhouette_score, adjusted_rand_score, classification_report\n",
    "from sklearn.cluster import KMeans\n",
    "%matplotlib inline"
   ],
   "metadata": {
    "collapsed": false,
    "ExecuteTime": {
     "end_time": "2023-11-23T16:23:35.743970800Z",
     "start_time": "2023-11-23T16:23:35.693531100Z"
    }
   },
   "id": "827a26804d09486"
  },
  {
   "cell_type": "markdown",
   "source": [
    "## Importing variables from the preprocessing notebook as csv files"
   ],
   "metadata": {
    "collapsed": false
   },
   "id": "b312b9b42a758bef"
  },
  {
   "cell_type": "code",
   "execution_count": 38,
   "outputs": [],
   "source": [
    "X = pd.read_csv('X.csv')\n",
    "y = np.loadtxt('y.csv', delimiter=',')"
   ],
   "metadata": {
    "collapsed": false,
    "ExecuteTime": {
     "end_time": "2023-11-23T16:23:37.211574900Z",
     "start_time": "2023-11-23T16:23:37.129540700Z"
    }
   },
   "id": "31e857bdc6e8dac3"
  },
  {
   "cell_type": "markdown",
   "source": [
    "## Loading Bert Model"
   ],
   "metadata": {
    "collapsed": false
   },
   "id": "779d627f1b2df088"
  },
  {
   "cell_type": "code",
   "execution_count": 39,
   "outputs": [
    {
     "name": "stderr",
     "output_type": "stream",
     "text": [
      "Some weights of the PyTorch model were not used when initializing the TF 2.0 model TFBertModel: ['cls.seq_relationship.weight', 'cls.predictions.bias', 'cls.predictions.transform.dense.bias', 'cls.predictions.transform.LayerNorm.weight', 'cls.predictions.transform.LayerNorm.bias', 'cls.predictions.transform.dense.weight', 'cls.seq_relationship.bias']\n",
      "- This IS expected if you are initializing TFBertModel from a PyTorch model trained on another task or with another architecture (e.g. initializing a TFBertForSequenceClassification model from a BertForPreTraining model).\n",
      "- This IS NOT expected if you are initializing TFBertModel from a PyTorch model that you expect to be exactly identical (e.g. initializing a TFBertForSequenceClassification model from a BertForSequenceClassification model).\n",
      "All the weights of TFBertModel were initialized from the PyTorch model.\n",
      "If your task is similar to the task the model of the checkpoint was trained on, you can already use TFBertModel for predictions without further training.\n"
     ]
    }
   ],
   "source": [
    "# Convert DataFrame column to a list\n",
    "text_data = X['preprocessed_text'].tolist()\n",
    "\n",
    "# Define the max_sequence_length\n",
    "max_sequence_length = 512\n",
    "\n",
    "# Load pre-trained BERT model and tokenizer\n",
    "bert_model = TFBertModel.from_pretrained('bert-base-uncased')\n",
    "tokenizer = BertTokenizer.from_pretrained('bert-base-uncased')"
   ],
   "metadata": {
    "collapsed": false,
    "ExecuteTime": {
     "end_time": "2023-11-23T16:23:42.466403100Z",
     "start_time": "2023-11-23T16:23:39.279497700Z"
    }
   },
   "id": "cbb55765711923a6"
  },
  {
   "cell_type": "code",
   "execution_count": 40,
   "outputs": [],
   "source": [
    "# text_data = [str(review) for review in text_data if pd.notna(review)]"
   ],
   "metadata": {
    "collapsed": false,
    "ExecuteTime": {
     "end_time": "2023-11-23T16:23:43.405028100Z",
     "start_time": "2023-11-23T16:23:43.360637200Z"
    }
   },
   "id": "2348b306ac99811f"
  },
  {
   "cell_type": "code",
   "execution_count": 41,
   "outputs": [],
   "source": [
    "# Convert text data to BERT-compatible input format\n",
    "encoded_inputs = tokenizer.batch_encode_plus(\n",
    "    text_data,\n",
    "    padding=True,\n",
    "    truncation=True,\n",
    "    max_length=max_sequence_length,\n",
    "    return_tensors='tf'\n",
    ")\n",
    "\n",
    "X_input_ids, X_attention_mask = encoded_inputs['input_ids'], encoded_inputs['attention_mask']\n",
    "\n"
   ],
   "metadata": {
    "collapsed": false,
    "ExecuteTime": {
     "end_time": "2023-11-23T16:24:02.570039400Z",
     "start_time": "2023-11-23T16:23:44.672223900Z"
    }
   },
   "id": "5666ce1862a51060"
  },
  {
   "cell_type": "code",
   "execution_count": 42,
   "outputs": [
    {
     "name": "stdout",
     "output_type": "stream",
     "text": [
      "277/277 [==============================] - 5303s 19s/step\n"
     ]
    }
   ],
   "source": [
    "# Define the architecture for feature extraction\n",
    "input_ids = Input(shape=(max_sequence_length,), dtype=tf.int32, name='input_ids')\n",
    "attention_mask = Input(shape=(max_sequence_length,), dtype=tf.int32, name='attention_mask')\n",
    "\n",
    "# BERT encoding layer\n",
    "bert_output = bert_model(input_ids, attention_mask=attention_mask)[0]\n",
    "pooled_output = GlobalAveragePooling1D()(bert_output)\n",
    "dropout = Dropout(0.2)(pooled_output)\n",
    "\n",
    "# Output layer\n",
    "output = Dense(768, activation='linear', name='output')(dropout) \n",
    "\n",
    "# Create the feature extraction model\n",
    "bert_feature_extractor = Model(inputs=[input_ids, attention_mask], outputs=output)\n",
    "\n",
    "# Extract BERT embeddings for the text data\n",
    "bert_embeddings = bert_feature_extractor.predict([X_input_ids, X_attention_mask])\n"
   ],
   "metadata": {
    "collapsed": false,
    "ExecuteTime": {
     "end_time": "2023-11-23T17:52:28.506274500Z",
     "start_time": "2023-11-23T16:24:02.576154100Z"
    }
   },
   "id": "478ad3230fa0a610"
  },
  {
   "cell_type": "code",
   "execution_count": 43,
   "outputs": [
    {
     "name": "stderr",
     "output_type": "stream",
     "text": [
      "C:\\Users\\suvin\\.conda\\envs\\newcondaDL\\lib\\site-packages\\sklearn\\cluster\\_kmeans.py:1412: FutureWarning: The default value of `n_init` will change from 10 to 'auto' in 1.4. Set the value of `n_init` explicitly to suppress the warning\n",
      "  super()._check_params_vs_input(X, default_n_init=10)\n"
     ]
    },
    {
     "name": "stdout",
     "output_type": "stream",
     "text": [
      "Cluster Labels: [1 1 1 ... 1 1 1]\n"
     ]
    }
   ],
   "source": [
    "# Perform K-means clustering\n",
    "num_clusters = 2\n",
    "kmeans = KMeans(n_clusters=num_clusters, random_state=42)\n",
    "cluster_labels = kmeans.fit_predict(bert_embeddings)\n",
    "\n",
    "print(\"Cluster Labels:\", cluster_labels)"
   ],
   "metadata": {
    "collapsed": false,
    "ExecuteTime": {
     "end_time": "2023-11-23T17:52:31.887911800Z",
     "start_time": "2023-11-23T17:52:28.573935400Z"
    }
   },
   "id": "a7e24ed8fdbc764e"
  },
  {
   "cell_type": "markdown",
   "source": [
    "## Evaluation of the model"
   ],
   "metadata": {
    "collapsed": false
   },
   "id": "2f6e338cec44f570"
  },
  {
   "cell_type": "markdown",
   "source": [],
   "metadata": {
    "collapsed": false
   },
   "id": "9d30c12e16f142f1"
  },
  {
   "cell_type": "markdown",
   "source": [],
   "metadata": {
    "collapsed": false
   },
   "id": "84024a059f931348"
  },
  {
   "cell_type": "code",
   "execution_count": 44,
   "outputs": [
    {
     "name": "stdout",
     "output_type": "stream",
     "text": [
      "Adjusted Rand Index (ARI): 0.06648887062445756\n"
     ]
    }
   ],
   "source": [
    "# Evaluate clustering performance using metrics\n",
    "ari = adjusted_rand_score(y, cluster_labels)\n",
    "print(\"Adjusted Rand Index (ARI):\", ari)\n"
   ],
   "metadata": {
    "collapsed": false,
    "ExecuteTime": {
     "end_time": "2023-11-23T17:52:39.609853500Z",
     "start_time": "2023-11-23T17:52:39.533821900Z"
    }
   },
   "id": "956ae8135a052fc0"
  },
  {
   "cell_type": "code",
   "execution_count": 45,
   "outputs": [
    {
     "name": "stdout",
     "output_type": "stream",
     "text": [
      "Classification Report:\n",
      "               precision    recall  f1-score   support\n",
      "\n",
      "         0.0       0.08      0.20      0.12      1841\n",
      "         1.0       0.66      0.42      0.51      7019\n",
      "\n",
      "    accuracy                           0.37      8860\n",
      "   macro avg       0.37      0.31      0.31      8860\n",
      "weighted avg       0.54      0.37      0.43      8860\n"
     ]
    }
   ],
   "source": [
    "# Generate a classification report for cluster evaluation\n",
    "classification_report_result = classification_report(y, cluster_labels)\n",
    "print(\"Classification Report:\\n\", classification_report_result)"
   ],
   "metadata": {
    "collapsed": false,
    "ExecuteTime": {
     "end_time": "2023-11-23T17:52:40.724252500Z",
     "start_time": "2023-11-23T17:52:40.665113800Z"
    }
   },
   "id": "5518069be2cf8800"
  },
  {
   "cell_type": "code",
   "execution_count": 46,
   "outputs": [
    {
     "name": "stdout",
     "output_type": "stream",
     "text": [
      "Silhouette Score: 0.073555715\n"
     ]
    }
   ],
   "source": [
    "silhouette_avg = silhouette_score(bert_embeddings, cluster_labels)\n",
    "print(\"Silhouette Score:\", silhouette_avg)\n"
   ],
   "metadata": {
    "collapsed": false,
    "ExecuteTime": {
     "end_time": "2023-11-23T17:52:46.184836Z",
     "start_time": "2023-11-23T17:52:43.857409Z"
    }
   },
   "id": "55203c43a83cdd98"
  },
  {
   "cell_type": "code",
   "execution_count": 47,
   "outputs": [
    {
     "name": "stdout",
     "output_type": "stream",
     "text": [
      "Cluster Centers: [[ 0.04615216  0.39338455 -0.10574151 ... -0.5627549   0.398651\n",
      "  -0.12498701]\n",
      " [-0.02525659  0.39511573 -0.27133417 ... -0.5049699   0.35719523\n",
      "  -0.15159549]]\n"
     ]
    }
   ],
   "source": [
    "cluster_centers = kmeans.cluster_centers_\n",
    "print(\"Cluster Centers:\", cluster_centers)\n"
   ],
   "metadata": {
    "collapsed": false,
    "ExecuteTime": {
     "end_time": "2023-11-23T17:52:47.109396500Z",
     "start_time": "2023-11-23T17:52:47.050482200Z"
    }
   },
   "id": "a60f56a6f1043934"
  },
  {
   "cell_type": "code",
   "execution_count": 48,
   "outputs": [
    {
     "name": "stdout",
     "output_type": "stream",
     "text": [
      "Davies-Bouldin Index: 3.403930060802475\n"
     ]
    }
   ],
   "source": [
    "db_index = davies_bouldin_score(bert_embeddings, cluster_labels)\n",
    "print(\"Davies-Bouldin Index:\", db_index)\n"
   ],
   "metadata": {
    "collapsed": false,
    "ExecuteTime": {
     "end_time": "2023-11-23T17:52:48.278368300Z",
     "start_time": "2023-11-23T17:52:48.189200Z"
    }
   },
   "id": "650fc765da48576e"
  },
  {
   "cell_type": "code",
   "execution_count": 49,
   "outputs": [
    {
     "name": "stdout",
     "output_type": "stream",
     "text": [
      "Calinski-Harabasz Index: 735.0585987332515\n"
     ]
    }
   ],
   "source": [
    "ch_index = calinski_harabasz_score(bert_embeddings, cluster_labels)\n",
    "print(\"Calinski-Harabasz Index:\", ch_index)\n"
   ],
   "metadata": {
    "collapsed": false,
    "ExecuteTime": {
     "end_time": "2023-11-23T17:52:49.315861500Z",
     "start_time": "2023-11-23T17:52:49.209381200Z"
    }
   },
   "id": "765cd1d744ebc55d"
  },
  {
   "cell_type": "code",
   "execution_count": null,
   "outputs": [],
   "source": [],
   "metadata": {
    "collapsed": false
   },
   "id": "7eed980cbf72ab54"
  }
 ],
 "metadata": {
  "kernelspec": {
   "display_name": "Python 3",
   "language": "python",
   "name": "python3"
  },
  "language_info": {
   "codemirror_mode": {
    "name": "ipython",
    "version": 2
   },
   "file_extension": ".py",
   "mimetype": "text/x-python",
   "name": "python",
   "nbconvert_exporter": "python",
   "pygments_lexer": "ipython2",
   "version": "2.7.6"
  }
 },
 "nbformat": 4,
 "nbformat_minor": 5
}
